{
  "nbformat": 4,
  "nbformat_minor": 0,
  "metadata": {
    "colab": {
      "provenance": [],
      "authorship_tag": "ABX9TyMNpgjPJ12q5ypYQkFRxmtW",
      "include_colab_link": true
    },
    "kernelspec": {
      "name": "python3",
      "display_name": "Python 3"
    },
    "language_info": {
      "name": "python"
    }
  },
  "cells": [
    {
      "cell_type": "markdown",
      "metadata": {
        "id": "view-in-github",
        "colab_type": "text"
      },
      "source": [
        "<a href=\"https://colab.research.google.com/github/yashkochar14/SA/blob/main/Stock_Analysis.ipynb\" target=\"_parent\"><img src=\"https://colab.research.google.com/assets/colab-badge.svg\" alt=\"Open In Colab\"/></a>"
      ]
    },
    {
      "cell_type": "code",
      "execution_count": 86,
      "metadata": {
        "id": "-Q1doCVc5LVF"
      },
      "outputs": [],
      "source": [
        "import pandas as pd\n",
        "import numpy as np\n",
        "import matplotlib.pyplot as plt\n",
        "import seaborn as sns\n",
        "\n",
        "# Set visualization style\n",
        "plt.style.use('fivethirtyeight')\n",
        "\n"
      ]
    },
    {
      "cell_type": "code",
      "source": [
        "from google.colab import files\n",
        "\n",
        "# Upload the CSV file\n",
        "uploaded = files.upload()\n",
        "\n",
        "# Load the dataset\n",
        "hcl_data = pd.read_csv('HCLTECH.csv')\n",
        "hcl_data.head()  # Display first 5 rows\n"
      ],
      "metadata": {
        "colab": {
          "base_uri": "https://localhost:8080/",
          "height": 38
        },
        "id": "jS3mKAR46dgE",
        "outputId": "3d25d43a-58ea-4e4a-f0f4-ae7d89b01e0c"
      },
      "execution_count": null,
      "outputs": [
        {
          "output_type": "display_data",
          "data": {
            "text/plain": [
              "<IPython.core.display.HTML object>"
            ],
            "text/html": [
              "\n",
              "     <input type=\"file\" id=\"files-951f78bb-c383-4b96-8f6e-e8c75de617ec\" name=\"files[]\" multiple disabled\n",
              "        style=\"border:none\" />\n",
              "     <output id=\"result-951f78bb-c383-4b96-8f6e-e8c75de617ec\">\n",
              "      Upload widget is only available when the cell has been executed in the\n",
              "      current browser session. Please rerun this cell to enable.\n",
              "      </output>\n",
              "      <script>// Copyright 2017 Google LLC\n",
              "//\n",
              "// Licensed under the Apache License, Version 2.0 (the \"License\");\n",
              "// you may not use this file except in compliance with the License.\n",
              "// You may obtain a copy of the License at\n",
              "//\n",
              "//      http://www.apache.org/licenses/LICENSE-2.0\n",
              "//\n",
              "// Unless required by applicable law or agreed to in writing, software\n",
              "// distributed under the License is distributed on an \"AS IS\" BASIS,\n",
              "// WITHOUT WARRANTIES OR CONDITIONS OF ANY KIND, either express or implied.\n",
              "// See the License for the specific language governing permissions and\n",
              "// limitations under the License.\n",
              "\n",
              "/**\n",
              " * @fileoverview Helpers for google.colab Python module.\n",
              " */\n",
              "(function(scope) {\n",
              "function span(text, styleAttributes = {}) {\n",
              "  const element = document.createElement('span');\n",
              "  element.textContent = text;\n",
              "  for (const key of Object.keys(styleAttributes)) {\n",
              "    element.style[key] = styleAttributes[key];\n",
              "  }\n",
              "  return element;\n",
              "}\n",
              "\n",
              "// Max number of bytes which will be uploaded at a time.\n",
              "const MAX_PAYLOAD_SIZE = 100 * 1024;\n",
              "\n",
              "function _uploadFiles(inputId, outputId) {\n",
              "  const steps = uploadFilesStep(inputId, outputId);\n",
              "  const outputElement = document.getElementById(outputId);\n",
              "  // Cache steps on the outputElement to make it available for the next call\n",
              "  // to uploadFilesContinue from Python.\n",
              "  outputElement.steps = steps;\n",
              "\n",
              "  return _uploadFilesContinue(outputId);\n",
              "}\n",
              "\n",
              "// This is roughly an async generator (not supported in the browser yet),\n",
              "// where there are multiple asynchronous steps and the Python side is going\n",
              "// to poll for completion of each step.\n",
              "// This uses a Promise to block the python side on completion of each step,\n",
              "// then passes the result of the previous step as the input to the next step.\n",
              "function _uploadFilesContinue(outputId) {\n",
              "  const outputElement = document.getElementById(outputId);\n",
              "  const steps = outputElement.steps;\n",
              "\n",
              "  const next = steps.next(outputElement.lastPromiseValue);\n",
              "  return Promise.resolve(next.value.promise).then((value) => {\n",
              "    // Cache the last promise value to make it available to the next\n",
              "    // step of the generator.\n",
              "    outputElement.lastPromiseValue = value;\n",
              "    return next.value.response;\n",
              "  });\n",
              "}\n",
              "\n",
              "/**\n",
              " * Generator function which is called between each async step of the upload\n",
              " * process.\n",
              " * @param {string} inputId Element ID of the input file picker element.\n",
              " * @param {string} outputId Element ID of the output display.\n",
              " * @return {!Iterable<!Object>} Iterable of next steps.\n",
              " */\n",
              "function* uploadFilesStep(inputId, outputId) {\n",
              "  const inputElement = document.getElementById(inputId);\n",
              "  inputElement.disabled = false;\n",
              "\n",
              "  const outputElement = document.getElementById(outputId);\n",
              "  outputElement.innerHTML = '';\n",
              "\n",
              "  const pickedPromise = new Promise((resolve) => {\n",
              "    inputElement.addEventListener('change', (e) => {\n",
              "      resolve(e.target.files);\n",
              "    });\n",
              "  });\n",
              "\n",
              "  const cancel = document.createElement('button');\n",
              "  inputElement.parentElement.appendChild(cancel);\n",
              "  cancel.textContent = 'Cancel upload';\n",
              "  const cancelPromise = new Promise((resolve) => {\n",
              "    cancel.onclick = () => {\n",
              "      resolve(null);\n",
              "    };\n",
              "  });\n",
              "\n",
              "  // Wait for the user to pick the files.\n",
              "  const files = yield {\n",
              "    promise: Promise.race([pickedPromise, cancelPromise]),\n",
              "    response: {\n",
              "      action: 'starting',\n",
              "    }\n",
              "  };\n",
              "\n",
              "  cancel.remove();\n",
              "\n",
              "  // Disable the input element since further picks are not allowed.\n",
              "  inputElement.disabled = true;\n",
              "\n",
              "  if (!files) {\n",
              "    return {\n",
              "      response: {\n",
              "        action: 'complete',\n",
              "      }\n",
              "    };\n",
              "  }\n",
              "\n",
              "  for (const file of files) {\n",
              "    const li = document.createElement('li');\n",
              "    li.append(span(file.name, {fontWeight: 'bold'}));\n",
              "    li.append(span(\n",
              "        `(${file.type || 'n/a'}) - ${file.size} bytes, ` +\n",
              "        `last modified: ${\n",
              "            file.lastModifiedDate ? file.lastModifiedDate.toLocaleDateString() :\n",
              "                                    'n/a'} - `));\n",
              "    const percent = span('0% done');\n",
              "    li.appendChild(percent);\n",
              "\n",
              "    outputElement.appendChild(li);\n",
              "\n",
              "    const fileDataPromise = new Promise((resolve) => {\n",
              "      const reader = new FileReader();\n",
              "      reader.onload = (e) => {\n",
              "        resolve(e.target.result);\n",
              "      };\n",
              "      reader.readAsArrayBuffer(file);\n",
              "    });\n",
              "    // Wait for the data to be ready.\n",
              "    let fileData = yield {\n",
              "      promise: fileDataPromise,\n",
              "      response: {\n",
              "        action: 'continue',\n",
              "      }\n",
              "    };\n",
              "\n",
              "    // Use a chunked sending to avoid message size limits. See b/62115660.\n",
              "    let position = 0;\n",
              "    do {\n",
              "      const length = Math.min(fileData.byteLength - position, MAX_PAYLOAD_SIZE);\n",
              "      const chunk = new Uint8Array(fileData, position, length);\n",
              "      position += length;\n",
              "\n",
              "      const base64 = btoa(String.fromCharCode.apply(null, chunk));\n",
              "      yield {\n",
              "        response: {\n",
              "          action: 'append',\n",
              "          file: file.name,\n",
              "          data: base64,\n",
              "        },\n",
              "      };\n",
              "\n",
              "      let percentDone = fileData.byteLength === 0 ?\n",
              "          100 :\n",
              "          Math.round((position / fileData.byteLength) * 100);\n",
              "      percent.textContent = `${percentDone}% done`;\n",
              "\n",
              "    } while (position < fileData.byteLength);\n",
              "  }\n",
              "\n",
              "  // All done.\n",
              "  yield {\n",
              "    response: {\n",
              "      action: 'complete',\n",
              "    }\n",
              "  };\n",
              "}\n",
              "\n",
              "scope.google = scope.google || {};\n",
              "scope.google.colab = scope.google.colab || {};\n",
              "scope.google.colab._files = {\n",
              "  _uploadFiles,\n",
              "  _uploadFilesContinue,\n",
              "};\n",
              "})(self);\n",
              "</script> "
            ]
          },
          "metadata": {}
        }
      ]
    },
    {
      "cell_type": "code",
      "source": [
        "# Check for missing values\n",
        "print(\"Missing Values:\\n\", hcl_data.isnull().sum())\n",
        "\n",
        "hcl_data.info()\n",
        "\n",
        "hcl_data.describe()\n"
      ],
      "metadata": {
        "id": "kK59PFKN7k7p"
      },
      "execution_count": null,
      "outputs": []
    },
    {
      "cell_type": "code",
      "source": [
        "# Check for missing values\n",
        "missing_values = hcl_data.isnull().sum()\n",
        "print(\"Missing Values:\\n\", missing_values)\n",
        "\n",
        "# Fill numerical columns with the mean\n",
        "numerical_cols = hcl_data.select_dtypes(include=[np.number]).columns\n",
        "hcl_data[numerical_cols] = hcl_data[numerical_cols].fillna(hcl_data[numerical_cols].mean())\n",
        "\n",
        "print(\"Missing Values After Filling:\\n\", hcl_data.isnull().sum())\n"
      ],
      "metadata": {
        "id": "TVLTzrtU72PY"
      },
      "execution_count": null,
      "outputs": []
    },
    {
      "cell_type": "code",
      "source": [
        "\n",
        "hcl_data['Date'] = pd.to_datetime(hcl_data['Date'], errors='coerce')        # Convert date to datetime format\n"
      ],
      "metadata": {
        "id": "GMyObQXf8Xof"
      },
      "execution_count": null,
      "outputs": []
    },
    {
      "cell_type": "code",
      "source": [
        "hcl_data.head(5)"
      ],
      "metadata": {
        "id": "MqkxZhBd79Gb"
      },
      "execution_count": null,
      "outputs": []
    },
    {
      "cell_type": "code",
      "source": [
        "# Check for duplicates\n",
        "duplicate_count = hcl_data.duplicated().sum()\n",
        "print(f\"Number of duplicate rows: {duplicate_count}\")\n",
        "\n",
        "# Remove duplicates if any\n",
        "hcl_data.drop_duplicates(inplace=True)\n"
      ],
      "metadata": {
        "id": "Gqr_5ldE8hS-"
      },
      "execution_count": null,
      "outputs": []
    },
    {
      "cell_type": "code",
      "source": [
        "\n",
        "hcl_data.info()\n",
        "hcl_data.head()\n"
      ],
      "metadata": {
        "id": "GjONn9819VqJ"
      },
      "execution_count": null,
      "outputs": []
    },
    {
      "source": [
        "# Price Range (High - Low)\n",
        "hcl_data['Price Range'] = hcl_data['High'] - hcl_data['Low']\n",
        "\n",
        "# Daily Return (%)\n",
        "hcl_data['Daily Return'] = hcl_data['Close'].pct_change() * 100\n",
        "\n",
        "# Moving Averages (7-day, 21-day, 50-day)\n",
        "hcl_data['MA_7'] = hcl_data['Close'].rolling(window=7).mean()\n",
        "hcl_data['MA_21'] = hcl_data['Close'].rolling(window=21).mean()\n",
        "hcl_data['MA_50'] = hcl_data['Close'].rolling(window=50).mean()\n",
        "\n",
        "# Exponential Moving Average (14-day)\n",
        "hcl_data['EMA_14'] = hcl_data['Close'].ewm(span=14, adjust=False).mean()\n",
        "\n",
        "# Display the first few rows to check\n",
        "hcl_data.head(10)\n",
        "\n"
      ],
      "cell_type": "code",
      "metadata": {
        "id": "AQJ7nrOP9-sg"
      },
      "execution_count": null,
      "outputs": []
    },
    {
      "source": [
        "\n",
        "hcl_data.fillna(method='bfill', inplace=True)  # Backward fill for missing values\n",
        "hcl_data.head(5)"
      ],
      "cell_type": "code",
      "metadata": {
        "id": "uemOQUT19--7"
      },
      "execution_count": null,
      "outputs": []
    },
    {
      "cell_type": "code",
      "source": [
        "# Sort by Date (Oldest to Newest)\n",
        "hcl_data = hcl_data.sort_values(by='Date').reset_index(drop=True)\n",
        "\n",
        "# Selecting essential features for LSTM and analysis\n",
        "lstm_data = hcl_data[['Date', 'Close', 'Price Range', 'Daily Return', 'MA_7', 'MA_21', 'MA_50', 'EMA_14']]\n",
        "\n",
        "# View the prepared data\n",
        "lstm_data.head(10)\n"
      ],
      "metadata": {
        "id": "L0ziEFSC93Ad"
      },
      "execution_count": null,
      "outputs": []
    },
    {
      "cell_type": "code",
      "source": [
        "plt.figure(figsize=(12, 6))\n",
        "plt.plot(lstm_data['Date'], lstm_data['Close'], color='dodgerblue', label='Closing Price')\n",
        "plt.xlabel('Date')\n",
        "plt.ylabel('Closing Price (₹)')\n",
        "plt.title('Closing Price Trend Over Time')\n",
        "plt.xticks(rotation=45)\n",
        "plt.grid(True)\n",
        "plt.legend()\n",
        "plt.show()\n"
      ],
      "metadata": {
        "id": "5-NM14yaq_mC"
      },
      "execution_count": null,
      "outputs": []
    },
    {
      "cell_type": "code",
      "source": [
        "plt.figure(figsize=(8, 4))\n",
        "plt.plot(lstm_data['Date'], lstm_data['Close'], color='dodgerblue', label='Closing Price')\n",
        "plt.plot(lstm_data['Date'], lstm_data['MA_7'], color='red', label='7-Day MA')\n",
        "plt.plot(lstm_data['Date'], lstm_data['MA_21'], color='green', label='21-Day MA')\n",
        "plt.plot(lstm_data['Date'], lstm_data['MA_50'], color='purple', label='50-Day MA')\n",
        "plt.xlabel('Date')\n",
        "plt.ylabel('Price (₹)')\n",
        "plt.title('Closing Price with Moving Averages')\n",
        "plt.xticks(rotation=45)\n",
        "plt.grid(True)\n",
        "plt.legend()\n",
        "plt.show()\n"
      ],
      "metadata": {
        "id": "L2hxa-BorPfA"
      },
      "execution_count": null,
      "outputs": []
    },
    {
      "cell_type": "code",
      "source": [
        "plt.figure(figsize=(8, 5))\n",
        "sns.histplot(lstm_data['Daily Return'], bins=50, color='orange', kde=True)\n",
        "plt.xlabel('Daily Return (%)')\n",
        "plt.ylabel('Frequency')\n",
        "plt.title('Distribution of Daily Returns')\n",
        "plt.grid(True)\n",
        "plt.show()\n",
        "\n",
        "# To measure volatility: Wide distribution or extreme outliers indicate higher volatility.\n",
        "# To check normal distribution: If the distribution resembles a bell curve (normal distribution), it suggests stable returns.\n",
        "# To identify risks: Negative skew (left tail) indicates more risk of price drops.\n"
      ],
      "metadata": {
        "id": "gXLaun_4rWYk"
      },
      "execution_count": null,
      "outputs": []
    },
    {
      "cell_type": "code",
      "source": [
        "plt.figure(figsize=(7, 4))\n",
        "correlation_matrix = lstm_data.drop(columns='Date').corr()\n",
        "sns.heatmap(correlation_matrix, annot=True, cmap='coolwarm', linewidths=0.5)\n",
        "plt.title('Correlation Heatmap of Features')\n",
        "plt.show()\n",
        "\n",
        "# Feature Correlations help us decide which inputs to keep or drop for effective LSTM training.\n",
        "#  If two or more features are strongly correlated, it can cause issues in modeling.\n"
      ],
      "metadata": {
        "id": "7c8v64_brrfh"
      },
      "execution_count": null,
      "outputs": []
    },
    {
      "cell_type": "code",
      "source": [
        "from sklearn.preprocessing import MinMaxScaler # minmaxsscaler apn import krya hai sklearn.preprocessing librarry se. we do that mebause minmix se sabh value 0-1 ka scale mein hojave which is easy to tarin\n",
        "\n",
        "# Selecting features to scale\n",
        "features_to_scale = lstm_data.drop(columns='Date').columns\n",
        "\n",
        "# Scaling features\n",
        "scaler = MinMaxScaler(feature_range=(0, 1))\n",
        "scaled_data = scaler.fit_transform(lstm_data[features_to_scale])\n",
        "# fit: Learns the minimum and maximum values of each feature to calculate scaling.\n",
        "# transform: Scales each value using the formula:\n",
        "# Scaled Value= Max−Min/Value−Min\n",
        "# lstm_data[features_to_scale]:Selects all numeric features for scaling.\n",
        "# Result:The scaled data is a NumPy array with scaled values between 0 and 1.\n",
        "\n",
        "# Creating a DataFrame with scaled values\n",
        "scaled_df = pd.DataFrame(scaled_data, columns=features_to_scale)\n",
        "scaled_df['Date'] = lstm_data['Date']  # Adding Date back for reference\n",
        "scaled_df.head(10)\n"
      ],
      "metadata": {
        "id": "72rrhF-JryYM"
      },
      "execution_count": null,
      "outputs": []
    },
    {
      "cell_type": "code",
      "source": [
        "# Convert scaled data to a NumPy array\n",
        "scaled_array = scaled_df.drop(columns='Date').values\n",
        "\n",
        "sequence_length = 60  #use data from the past 60 days to predict the next day's Close price.\n",
        "\n",
        "# Creating sequences\n",
        "X = []       #Will store sequences of 60 days of feature values.\n",
        "y = []       #Will store the target values — the next day's Close price.\n",
        "\n",
        "\n",
        "for i in range(sequence_length, len(scaled_array)):\n",
        "    X.append(scaled_array[i-sequence_length:i])  # Sequence of 60 days\n",
        "    y.append(scaled_array[i, 0])  # Predicting next day 'Close' price\n",
        "\n",
        "# Converting to numpy arrays\n",
        "X, y = np.array(X), np.array(y)\n",
        "\n",
        "# Checking shapes for LSTM input to ensure compatibility\n",
        "print(f\"Shape of X: {X.shape}\")  #5240: Total samples (data sequences) created for training, 60: The sequence length — we use 60 days of data to make each prediction ,7: The number of features used for each day (like Close, Price Range, etc.).\n",
        "print(f\"Shape of y: {y.shape}\")\n"
      ],
      "metadata": {
        "id": "j6SGHo1zs2k9"
      },
      "execution_count": null,
      "outputs": []
    },
    {
      "cell_type": "code",
      "source": [
        "from tensorflow.keras.models import Sequential\n",
        "from tensorflow.keras.layers import LSTM, Dense, Dropout\n",
        "\n",
        "# Initializing the LSTM model\n",
        "model = Sequential()\n",
        "\n",
        "# Adding LSTM layers\n",
        "model.add(LSTM(units=64, return_sequences=True, input_shape=(X.shape[1], X.shape[2])))\n",
        "model.add(Dropout(0.2))  # 20% dropout to prevent overfitting\n",
        "\n",
        "model.add(LSTM(units=64, return_sequences=False))\n",
        "model.add(Dropout(0.2))\n",
        "\n",
        "# Dense layer for prediction\n",
        "model.add(Dense(units=1))  # Final output layer\n",
        "\n",
        "# Compiling the model\n",
        "model.compile(optimizer='adam', loss='mean_squared_error')\n",
        "\n",
        "# Model summary\n",
        "model.summary()\n"
      ],
      "metadata": {
        "id": "Hxh-mfE92YYU"
      },
      "execution_count": null,
      "outputs": []
    },
    {
      "cell_type": "code",
      "source": [
        "# Define the training and testing data split\n",
        "train_size = int(len(X) * 0.8)  # 80% for training\n",
        "X_train, X_test = X[:train_size], X[train_size:]\n",
        "y_train, y_test = y[:train_size], y[train_size:]\n",
        "\n",
        "print(f\"Training data shape: X_train: {X_train.shape}, y_train: {y_train.shape}\")\n",
        "print(f\"Testing data shape: X_test: {X_test.shape}, y_test: {y_test.shape}\")\n"
      ],
      "metadata": {
        "id": "sWE8a4QH4-ZB"
      },
      "execution_count": null,
      "outputs": []
    },
    {
      "cell_type": "code",
      "source": [
        "# Training the model\n",
        "history = model.fit(X_train, y_train,\n",
        "                    epochs=20,\n",
        "                    batch_size=32,\n",
        "                    validation_split=0.1,  # 10% of training data for validation\n",
        "                    verbose=1)  # Display training progress\n"
      ],
      "metadata": {
        "id": "hhfAZKAI6JEf"
      },
      "execution_count": null,
      "outputs": []
    },
    {
      "cell_type": "code",
      "source": [
        "from sklearn.metrics import mean_squared_error\n",
        "import math\n",
        "\n",
        "# Make predictions on the test data\n",
        "y_pred = model.predict(X_test)\n",
        "\n",
        "# Calculate Mean Squared Error (MSE)\n",
        "mse = mean_squared_error(y_test, y_pred)\n",
        "rmse = math.sqrt(mse)\n",
        "\n",
        "print(f\"Mean Squared Error (MSE): {mse:.4f}\")\n",
        "print(f\"Root Mean Squared Error (RMSE): {rmse:.4f}\")\n",
        "\n"
      ],
      "metadata": {
        "id": "3fVMwxvl6XRN"
      },
      "execution_count": null,
      "outputs": []
    },
    {
      "cell_type": "code",
      "source": [
        "import matplotlib.pyplot as plt\n",
        "\n",
        "plt.figure(figsize=(12, 6))\n",
        "plt.plot(y_test, label='Actual Prices', color='blue')\n",
        "plt.plot(y_pred, label='Predicted Prices', color='red')\n",
        "plt.title('Actual vs. Predicted Prices')\n",
        "plt.xlabel('Time')\n",
        "plt.ylabel('Scaled Close Price')\n",
        "plt.legend()\n",
        "plt.grid(True)\n",
        "plt.show()\n",
        "# Closer the predicted line to the actual line: Better model performance.\n",
        "\n"
      ],
      "metadata": {
        "id": "mpBWwzOH7na7"
      },
      "execution_count": null,
      "outputs": []
    },
    {
      "cell_type": "code",
      "source": [
        "# Reshape y_pred and y_test to match scaler's expected input shape\n",
        "y_pred_reshaped = y_pred.reshape(-1, 1)\n",
        "y_test_reshaped = y_test.reshape(-1, 1)\n",
        "\n",
        "# Use the same scaler to inverse transform only the 'Close' price\n",
        "y_pred_original = scaler.inverse_transform(\n",
        "    np.hstack((y_pred_reshaped, np.zeros((y_pred_reshaped.shape[0], len(features_to_scale)-1))))\n",
        ")[:, 0]\n",
        "\n",
        "y_test_original = scaler.inverse_transform(\n",
        "    np.hstack((y_test_reshaped, np.zeros((y_test_reshaped.shape[0], len(features_to_scale)-1))))\n",
        ")[:, 0]\n",
        "\n",
        "# Display some actual vs predicted values\n",
        "comparison_df = pd.DataFrame({'Actual': y_test_original, 'Predicted': y_pred_original})\n",
        "print(comparison_df.head(10))  # Show first 10 comparisons\n"
      ],
      "metadata": {
        "id": "lSAY4u6t73Gy"
      },
      "execution_count": null,
      "outputs": []
    },
    {
      "cell_type": "code",
      "source": [
        "plt.figure(figsize=(12, 6))\n",
        "plt.plot(y_test_original, label='Actual Prices', color='blue')\n",
        "plt.plot(y_pred_original, label='Predicted Prices', color='red')\n",
        "plt.title('Actual vs. Predicted Stock Prices')\n",
        "plt.xlabel('Time')\n",
        "plt.ylabel('Stock Price (INR)')\n",
        "plt.legend()\n",
        "plt.grid(True)\n",
        "plt.show()\n"
      ],
      "metadata": {
        "id": "wGd4cjxm8ZQq"
      },
      "execution_count": null,
      "outputs": []
    },
    {
      "cell_type": "code",
      "source": [
        "# Make predictions again to ensure 'predictions' is defined\n",
        "predictions = model.predict(X_test)\n",
        "\n",
        "from sklearn.metrics import mean_absolute_error, mean_squared_error, mean_absolute_percentage_error\n",
        "import numpy as np\n",
        "\n",
        "# Mean Absolute Error (MAE)\n",
        "mae = mean_absolute_error(y_test, predictions)\n",
        "\n",
        "# Mean Squared Error (MSE)\n",
        "mse = mean_squared_error(y_test, predictions)\n",
        "\n",
        "# Root Mean Squared Error (RMSE)\n",
        "rmse = np.sqrt(mse)\n",
        "\n",
        "# Mean Absolute Percentage Error (MAPE)\n",
        "mape = mean_absolute_percentage_error(y_test, predictions) * 100  # In percentage\n",
        "\n",
        "print(f\"Mean Absolute Error (MAE): {mae:.2f}\")\n",
        "print(f\"Mean Squared Error (MSE): {mse:.2f}\")\n",
        "print(f\"Root Mean Squared Error (RMSE): {rmse:.2f}\")\n",
        "print(f\"Mean Absolute Percentage Error (MAPE): {mape:.2f}%\")\n"
      ],
      "metadata": {
        "id": "WerLlXsf80G0"
      },
      "execution_count": null,
      "outputs": []
    },
    {
      "cell_type": "code",
      "source": [
        "pip install streamlit matplotlib pandas numpy\n"
      ],
      "metadata": {
        "id": "GGBnSHOh9WLk"
      },
      "execution_count": null,
      "outputs": []
    },
    {
      "cell_type": "code",
      "source": [
        "import streamlit as st\n",
        "import pandas as pd\n",
        "import numpy as np\n",
        "import matplotlib.pyplot as plt\n",
        "\n",
        "# Title\n",
        "st.title(\"📊 Stock Price Prediction Dashboard\")\n",
        "\n",
        "# Display error metrics\n",
        "st.subheader(\"Model Evaluation Metrics\")\n",
        "st.write(f\"**Mean Absolute Error (MAE):** {0.01}\")\n",
        "st.write(f\"**Mean Squared Error (MSE):** {0.00}\")\n",
        "st.write(f\"**Root Mean Squared Error (RMSE):** {0.01}\")\n",
        "st.write(f\"**Mean Absolute Percentage Error (MAPE):** {2.42}%\")\n",
        "\n",
        "# Load predictions (assuming `y_test` and `predictions` are available as numpy arrays)\n",
        "actual_prices = np.random.uniform(800, 1100, 100)  # Replace with y_test\n",
        "predicted_prices = actual_prices + np.random.uniform(-10, 10, 100)  # Replace with predictions\n",
        "\n",
        "# Plot actual vs predicted prices\n",
        "st.subheader(\"📈 Actual vs. Predicted Stock Prices\")\n",
        "fig, ax = plt.subplots()\n",
        "ax.plot(actual_prices, color='blue', label='Actual Prices')\n",
        "ax.plot(predicted_prices, color='red', label='Predicted Prices')\n",
        "ax.set_xlabel(\"Time\")\n",
        "ax.set_ylabel(\"Stock Price (INR)\")\n",
        "ax.legend()\n",
        "st.pyplot(fig)\n",
        "\n",
        "# Future prediction section\n",
        "st.subheader(\"🔮 Make Future Predictions\")\n",
        "future_days = st.number_input(\"Enter the number of future days:\", min_value=1, max_value=30, value=5)\n",
        "future_predictions = predicted_prices[-1] + np.random.uniform(-10, 10, future_days)\n",
        "st.write(f\"Predicted prices for the next {future_days} days: {future_predictions}\")\n"
      ],
      "metadata": {
        "id": "1z5O5bcL-KAX"
      },
      "execution_count": null,
      "outputs": []
    },
    {
      "cell_type": "code",
      "source": [
        "!pip install streamlit pyngrok\n"
      ],
      "metadata": {
        "id": "8yZDLZU0-QKk"
      },
      "execution_count": null,
      "outputs": []
    },
    {
      "cell_type": "code",
      "source": [
        "%%writefile app.py\n",
        "import streamlit as st\n",
        "\n",
        "st.title(\"Stock Price Prediction Dashboard\")\n",
        "st.write(\"This is a demo dashboard using Streamlit in Google Colab!\")\n"
      ],
      "metadata": {
        "id": "pjISEXr1-UNL"
      },
      "execution_count": null,
      "outputs": []
    },
    {
      "cell_type": "code",
      "source": [
        "# from pyngrok import ngrok\n",
        "\n",
        "# # Start the Streamlit app\n",
        "# !streamlit run app.py &\n",
        "\n",
        "# # Create a public URL using ngrok\n",
        "# public_url = ngrok.connect(port='8501')\n",
        "# print(f\"Access the Streamlit app here: {public_url}\")\n"
      ],
      "metadata": {
        "id": "0OGaEoB7_HbB"
      },
      "execution_count": null,
      "outputs": []
    },
    {
      "cell_type": "code",
      "source": [
        "!pip install dash dash-bootstrap-components pandas plotly\n"
      ],
      "metadata": {
        "id": "9u5MW4Wx_d81"
      },
      "execution_count": null,
      "outputs": []
    },
    {
      "cell_type": "code",
      "source": [
        "from jupyter_dash import JupyterDash\n",
        "from dash import dcc, html, Input, Output\n",
        "import dash_bootstrap_components as dbc\n",
        "import plotly.express as px\n",
        "import pandas as pd\n",
        "\n",
        "# Create a sample DataFrame\n",
        "data = pd.DataFrame({\n",
        "    'Category': ['A', 'B', 'C', 'D'],\n",
        "    'Values': [10, 20, 30, 40]\n",
        "})\n",
        "\n",
        "# Initialize the JupyterDash app\n",
        "app = JupyterDash(__name__, external_stylesheets=[dbc.themes.BOOTSTRAP])\n",
        "\n",
        "# App Layout\n",
        "app.layout = dbc.Container([\n",
        "    html.H1(\"Power BI-like Dashboard on Google Colab\"),\n",
        "    dcc.Dropdown(\n",
        "        id='category-dropdown',\n",
        "        options=[{'label': cat, 'value': cat} for cat in data['Category']],\n",
        "        value='A',\n",
        "        clearable=False\n",
        "    ),\n",
        "    dcc.Graph(id='bar-chart')\n",
        "])\n",
        "\n",
        "# Callback for interactivity\n",
        "@app.callback(\n",
        "    Output('bar-chart', 'figure'),\n",
        "    [Input('category-dropdown', 'value')]\n",
        ")\n",
        "def update_chart(selected_category):\n",
        "    filtered_data = data[data['Category'] == selected_category]\n",
        "    fig = px.bar(filtered_data, x='Category', y='Values', title=f\"Data for Category {selected_category}\")\n",
        "    return fig\n",
        "\n",
        "# Run the app\n",
        "app.run_server(mode='inline')\n"
      ],
      "metadata": {
        "id": "EWl9JpR5AAyY"
      },
      "execution_count": null,
      "outputs": []
    },
    {
      "cell_type": "code",
      "source": [
        "from dash import Dash, dcc, html, Input, Output\n",
        "import dash_bootstrap_components as dbc\n",
        "import plotly.express as px\n",
        "import pandas as pd\n",
        "\n",
        "# Create a sample DataFrame\n",
        "data = pd.DataFrame({\n",
        "    'Category': ['A', 'B', 'C', 'D'],\n",
        "    'Values': [10, 20, 30, 40]\n",
        "})\n",
        "\n",
        "# Initialize the Dash app\n",
        "app = Dash(__name__, external_stylesheets=[dbc.themes.BOOTSTRAP])\n",
        "\n",
        "# App Layout\n",
        "app.layout = dbc.Container([\n",
        "    html.H1(\"Power BI-like Dashboard on Google Colab\"),\n",
        "    dcc.Dropdown(\n",
        "        id='category-dropdown',\n",
        "        options=[{'label': cat, 'value': cat} for cat in data['Category']],\n",
        "        value='A',\n",
        "        clearable=False\n",
        "    ),\n",
        "    dcc.Graph(id='bar-chart')\n",
        "])\n",
        "\n",
        "# Callback for interactivity\n",
        "@app.callback(\n",
        "    Output('bar-chart', 'figure'),\n",
        "    [Input('category-dropdown', 'value')]\n",
        ")\n",
        "def update_chart(selected_category):\n",
        "    filtered_data = data[data['Category'] == selected_category]\n",
        "    fig = px.bar(filtered_data, x='Category', y='Values', title=f\"Data for Category {selected_category}\")\n",
        "    return fig\n",
        "\n",
        "# Run the Dash app\n",
        "if __name__ == '__main__':\n",
        "    app.run(debug=True)\n"
      ],
      "metadata": {
        "id": "gViTKajtAEkr"
      },
      "execution_count": null,
      "outputs": []
    },
    {
      "cell_type": "code",
      "source": [],
      "metadata": {
        "id": "Ys0yZWzDATvc"
      },
      "execution_count": null,
      "outputs": []
    }
  ]
}